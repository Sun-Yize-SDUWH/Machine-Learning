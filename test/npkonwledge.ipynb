{
 "cells": [
  {
   "cell_type": "code",
   "execution_count": 6,
   "metadata": {
    "collapsed": true,
    "pycharm": {
     "is_executing": false
    }
   },
   "outputs": [
    {
     "traceback": [
      "\u001b[1;31m---------------------------------------------------------------------------\u001b[0m",
      "\u001b[1;31mTypeError\u001b[0m                                 Traceback (most recent call last)",
      "\u001b[1;32m<ipython-input-6-b013e5ae5fa8>\u001b[0m in \u001b[0;36m<module>\u001b[1;34m\u001b[0m\n\u001b[0;32m     29\u001b[0m \u001b[0mb\u001b[0m \u001b[1;33m=\u001b[0m \u001b[1;33m[\u001b[0m\u001b[1;33m[\u001b[0m\u001b[1;36m0\u001b[0m\u001b[1;33m,\u001b[0m\u001b[1;36m1\u001b[0m\u001b[1;33m]\u001b[0m\u001b[1;33m,\u001b[0m\u001b[1;33m[\u001b[0m\u001b[1;36m2\u001b[0m\u001b[1;33m,\u001b[0m\u001b[1;36m3\u001b[0m\u001b[1;33m]\u001b[0m\u001b[1;33m,\u001b[0m\u001b[1;33m[\u001b[0m\u001b[1;36m4\u001b[0m\u001b[1;33m,\u001b[0m\u001b[1;36m5\u001b[0m\u001b[1;33m]\u001b[0m\u001b[1;33m]\u001b[0m\u001b[1;33m\u001b[0m\u001b[1;33m\u001b[0m\u001b[0m\n\u001b[0;32m     30\u001b[0m \u001b[0ma\u001b[0m\u001b[1;33m+\u001b[0m\u001b[0mb\u001b[0m \u001b[1;31m#[[1,3],[4,6],[7,9]]\u001b[0m\u001b[1;33m\u001b[0m\u001b[1;33m\u001b[0m\u001b[0m\n\u001b[1;32m---> 31\u001b[1;33m \u001b[0ma\u001b[0m\u001b[1;33m*\u001b[0m\u001b[0mb\u001b[0m \u001b[1;31m#multiplication element-wise\u001b[0m\u001b[1;33m\u001b[0m\u001b[1;33m\u001b[0m\u001b[0m\n\u001b[0m\u001b[0;32m     32\u001b[0m \u001b[0mnp\u001b[0m\u001b[1;33m.\u001b[0m\u001b[0mdot\u001b[0m\u001b[1;33m(\u001b[0m\u001b[0ma\u001b[0m\u001b[1;33m,\u001b[0m\u001b[0mnp\u001b[0m\u001b[1;33m.\u001b[0m\u001b[0mtranspose\u001b[0m\u001b[1;33m(\u001b[0m\u001b[0mb\u001b[0m\u001b[1;33m)\u001b[0m\u001b[1;33m)\u001b[0m \u001b[1;31m#矩阵对应相乘\u001b[0m\u001b[1;33m\u001b[0m\u001b[1;33m\u001b[0m\u001b[0m\n",
      "\u001b[1;31mTypeError\u001b[0m: can't multiply sequence by non-int of type 'list'"
     ],
     "ename": "TypeError",
     "evalue": "can't multiply sequence by non-int of type 'list'",
     "output_type": "error"
    }
   ],
   "source": [
    "import numpy as np\n",
    "\n",
    "#生成3到7，每隔2的数列\n",
    "np.arange(3, 7, 2)\n",
    "#输出对角矩阵\n",
    "np.eye(3)\n",
    "np.eye(3, 4)\n",
    "#重新定义矩阵行和列\n",
    "a = [[1, 2],[2, 3],[3, 4]]\n",
    "np.reshape(a, (2,3))\n",
    "#ndim输出为几维矩阵\n",
    "a = [[1, 2],[2, 3],[3, 4]]\n",
    "np.ndim(a)\n",
    "#size输出有几个元素 \n",
    "np.size(a)\n",
    "#输出有几行几列\n",
    "np.shape(a)\n",
    "np.shape(a)[0]\n",
    "np.shape(a)[1]\n",
    "#transpose转置矩阵\n",
    "np.transpose(a)\n",
    "#min、max找最小，最大元素\n",
    "np.max(a)\n",
    "np.min(a)\n",
    "#sum求和矩阵所有元素\n",
    "np.sum(a)\n",
    "\n",
    "\n",
    "b = [[0,1],[2,3],[4,5]]\n",
    "a+b #[[1,3],[4,6],[7,9]]\n",
    "a*b #multiplication element-wise\n",
    "np.dot(a,np.transpose(b)) #矩阵对应相乘\n",
    "\n",
    "\n",
    "pow(b,2) \n",
    "pow(2,b)\n",
    "\n",
    "np.random.rand(5) #generate 5 random float numbers between 0.0 and 1.0\n",
    "np.random.randint(7) #generate 1 random integer between 0 and 7\n",
    "np.random.randint(2,9,3) #gengrate 3 random integers from 2 to 9\n",
    "np.random.normal() #高斯分布\n",
    "np.random.uniform() #随机分布"
   ]
  }
 ],
 "metadata": {
  "kernelspec": {
   "display_name": "Python 3",
   "language": "python",
   "name": "python3"
  },
  "language_info": {
   "codemirror_mode": {
    "name": "ipython",
    "version": 2
   },
   "file_extension": ".py",
   "mimetype": "text/x-python",
   "name": "python",
   "nbconvert_exporter": "python",
   "pygments_lexer": "ipython2",
   "version": "2.7.6"
  },
  "pycharm": {
   "stem_cell": {
    "cell_type": "raw",
    "source": [],
    "metadata": {
     "collapsed": false
    }
   }
  }
 },
 "nbformat": 4,
 "nbformat_minor": 0
}